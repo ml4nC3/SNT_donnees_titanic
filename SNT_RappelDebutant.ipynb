{
 "cells": [
  {
   "cell_type": "markdown",
   "metadata": {},
   "source": [
    "# Lire !\n",
    "\n",
    "L'informatique, c'est avant tout de la lecture ! D'ailleurs, on programme avec un **langage**. La première qualité à avoir pour faire de l'informatique est donc avant tout de savoir **LIRE**.\n",
    "\n",
    "Lire Google, lire un tuto, lire un forum, lire un MOOC, lire un programme...\n",
    "\n",
    "Ce cours contient de fait beaucoup de texte, car il cherche à expliquer au mieux tout ce qui se passe. Prenez donc le temps de lire.\n",
    "\n",
    "Et lorsque vous en avez marre de lire, allez faire autre chose ! Revenez dessus plus tard."
   ]
  },
  {
   "cell_type": "markdown",
   "metadata": {},
   "source": [
    "----\n",
    "# Rappels de niveau débutant\n",
    "\n",
    "Les chapitres ci-dessous repartent des bases de la programmation python pour ceux qui ont besoin d'accompagnement. L'objectif ici est que vous ressortiez avec la conviction que vous êtes capables d'écrire des programmes simples."
   ]
  },
  {
   "cell_type": "markdown",
   "metadata": {},
   "source": [
    "# Imports\n",
    "Les lignes ci-dessous utilisent la commande **import**. Cette commande permet **d'importer** (thx captain obvious), c'est à dire **d'inclure dans notre programme** des outils qui nous seront utiles pour réaliser notre tâche.\n",
    "\n",
    "Ces outils sont des programmes qui ont été développés et partagés en tant que **bibliothèque**. On peut imaginer ces bibliothèques comme des étagères pleines de différents _livres_ qui nous seront utiles, ou pas. _Ces livres_ s'appellent des **fonctions**.\n",
    "\n",
    "Plus tard dans notre code nous iront chercher les _livres_ qui nous interessent dans l'étagère. On dit alors qu'on **appelle la fonction** de la **bibliothèque**."
   ]
  },
  {
   "cell_type": "code",
   "execution_count": 2,
   "metadata": {},
   "outputs": [],
   "source": [
    "# Import de la bibliothèque qui permet la lecture et la manipulation de fichiers CSV :\n",
    "import csv\n",
    "\n",
    "# Import de la bibliothèque qui permet l'affichage de graphiques :\n",
    "import matplotlib.pyplot as plt\n",
    "# Nous renommons cette bibliothèque \"plt\" pour que ce soit plus court à utiliser dans le code\n",
    "\n",
    "# Import d'une fonction pour afficher des vidéos youtube dans ce cours :\n",
    "from IPython.display import YouTubeVideo\n",
    "\n",
    "# Import des éléments nécessaires à l'auto-correction des exercices :\n",
    "import theme4_python as th4"
   ]
  },
  {
   "cell_type": "markdown",
   "metadata": {},
   "source": [
    "### Exécution du code\n",
    "Cliquez dans la cellule ci-dessus et appuyez sur les touches **SHIFT + ENTREE**.\n",
    "\n",
    "Un chiffre est apparu entre les crochets : _\"Entrée [**1**]:\"_\n",
    "Il s'agit du numéro d'exécution de la cellule. Il vous permet de vous rappeler dans quel ordre vous avez exécuté le code sur cette page."
   ]
  },
  {
   "cell_type": "markdown",
   "metadata": {},
   "source": [
    "### Commentaires\n",
    "Remarquez dans la cellule de code ci-dessus le texte qui commence par le caractère **#**. Ce caractère permet de dire à Python qu'il ne faut pas interpréter le texte qui vient après sur la même ligne.\n",
    "\n",
    "Ce texte est à destination de ceux qui lisent le code afin de les aider à le comprendre. On appelle ce texte **un commentaire de code**."
   ]
  },
  {
   "cell_type": "markdown",
   "metadata": {},
   "source": [
    "## Les bases\n",
    "\n",
    "Que cherchons-nous à faire ? Quel est l'objectif ? Et ensuite, quelles sont les différentes **tâches** qui vont nous permettre d'atteindre cet objectif ?\n",
    "\n",
    "Voici les questions qu'il faut se poser lorsqu'on débute un nouveau programme. La programmation permet de découper un **gros problème** en plusieurs **problèmes plus petits** que l'on résoud un par un.\n",
    "\n",
    "Gardez ceci à l'esprit. Si vous butez sur un problème, demandez-vous si vous pouvez le découper en plusieurs étapes plus simples. La programmation se construit au fur et à mesure, à chaque pas on résoud un nouveau problème. On dit qu'elle est **itérative**.\n",
    "\n",
    "### Les variables\n",
    "\n",
    "Souvenez-vous : une variable est un **espace mémoire** de l'ordinateur, c'est à dire une boite qui contient une donnée. Cette boite a un nom qui lui est donné dans le programme, et on appelle **affectation** ou **attribution** l'action de lui donner ou changer sa valeur.\n",
    "\n",
    "L'action d'**affecter** une **valeur** à une **variable** s'effectue avec le signe **=**."
   ]
  },
  {
   "cell_type": "code",
   "execution_count": null,
   "metadata": {},
   "outputs": [],
   "source": [
    "ma_variable = 12\n",
    "# Ici je créé une variable appelée \"ma_variable\" à laquelle je donne la valeur 12."
   ]
  },
  {
   "cell_type": "markdown",
   "metadata": {},
   "source": [
    "Pour en savoir plus, exécutez la cellule ci-dessous pour regarder une vidéo sur le sujet."
   ]
  },
  {
   "cell_type": "code",
   "execution_count": null,
   "metadata": {
    "scrolled": true
   },
   "outputs": [],
   "source": [
    "vid_variables = YouTubeVideo(\"nvyX8JfoOWY\")\n",
    "display(vid_variables)"
   ]
  },
  {
   "cell_type": "markdown",
   "metadata": {},
   "source": [
    "### Les fonctions\n",
    "\n",
    "L'autre concept qu'il vous faut comprendre pour arriver au bout de ce cours est celui de **la fonction**. Une fonction est un bout de programme auquel on a donné **un nom**. Ce bout de programme remplit un rôle, une fonction, en effectuant des opérations et éventuellement en renvoyant un résultat.\n",
    "\n",
    "Une fonction est définie avec le mot-clé **def** suivi du **nom de la fonction** et de **parenthèses**."
   ]
  },
  {
   "cell_type": "code",
   "execution_count": null,
   "metadata": {},
   "outputs": [],
   "source": [
    "def afficher_choucroute():\n",
    "    print(\"J'adore la choucroute !\")\n",
    "# Fonction qui affiche un texte du plus grand intérêt."
   ]
  },
  {
   "cell_type": "markdown",
   "metadata": {},
   "source": [
    "Exécutez la cellule ci-dessus. Remarquez que le texte n'a pas été renvoyé, rien ne s'est affiché. C'est parce qu'ici nous avons seulement définit les actions que fera la fonction, mais nous ne l'avons pas exécutée.\n",
    "\n",
    "Nous avons créé *un nouveau livre* et l'avons rangé dans *l'étagère de notre programme*, mais nous ne l'avons pas lu.\n",
    "\n",
    "Une fonction n'est exécutée que lorsqu'elle est **appelée**. Pour appeler une fonction il suffit d'utiliser son nom suivi de **parenthèses**."
   ]
  },
  {
   "cell_type": "code",
   "execution_count": null,
   "metadata": {},
   "outputs": [],
   "source": [
    "afficher_choucroute()"
   ]
  },
  {
   "cell_type": "markdown",
   "metadata": {},
   "source": [
    "A quoi ça sert me dites vous ? A répéter du code !"
   ]
  },
  {
   "cell_type": "code",
   "execution_count": null,
   "metadata": {},
   "outputs": [],
   "source": [
    "afficher_choucroute()\n",
    "afficher_choucroute()\n",
    "afficher_choucroute()"
   ]
  },
  {
   "cell_type": "markdown",
   "metadata": {},
   "source": [
    "Bon évidemment ici l'intérêt ne saute pas aux yeux...\n",
    "\n",
    "Mais souvenez-vous : la programmation c'est **découper un gros problème en petits problèmes**, et il arrive fréquemment qu'on ai besoin de résoudre un petit problème plusieurs fois. Alors on appelle une fonction plutôt que de répéter le code. \n",
    "\n",
    "C'est plus facile à lire et plus facile à modifier par la suite. Une autre manière de dire que les développeurs sont feignants."
   ]
  },
  {
   "cell_type": "markdown",
   "metadata": {},
   "source": [
    "#### Les paramètres de fonction\n",
    "\n",
    "Une vraie fonction travaille généralement à partir de données qu'on lui donne, et retourne un résultat. \n",
    "\n",
    "Lorsque l'on définit la fonction, on peut demander qu'une donnée soit fournie en entrée en précisant **le nom d'une ou plusieurs variables**.\n",
    "\n",
    "Enfin, une fois que les opérations seront terminées on retourne le résultat avec la fonction **return**."
   ]
  },
  {
   "cell_type": "code",
   "execution_count": null,
   "metadata": {},
   "outputs": [],
   "source": [
    "# Définition d'une fonction faisant la somme de 2 entrées.\n",
    "# Evidemment ce n'est pas très utile d'utiliser une fonction pour ça.\n",
    "# Mais c'est pour l'exemple !\n",
    "def aditionner(premier, second):\n",
    "    resultat = premier + second\n",
    "    return resultat\n",
    "\n",
    "# définition de 2 variables quelconques :\n",
    "ma_variable = 12\n",
    "ma_variable_2 = 4\n",
    "\n",
    "# Appel de la fonction définie plus haut avec nos 2 variables :\n",
    "somme = aditionner(ma_variable, ma_variable_2)\n",
    "\n",
    "# Affichage du résultat avec la fonction print :\n",
    "print(somme)"
   ]
  },
  {
   "cell_type": "markdown",
   "metadata": {},
   "source": [
    "### Mettons en pratique\n",
    "\n",
    "Maintenant à vous, écrivez dans la cellule :\n",
    "- une première fonction qui s'appellera \"quarante_deux\" et qui retourne la valeur 42\n",
    "- une seconde fonction qui s'appellera \"plus_deux\" prenant un paramètre, et qui retourne la valeur du paramètre + 2"
   ]
  },
  {
   "cell_type": "code",
   "execution_count": 3,
   "metadata": {},
   "outputs": [],
   "source": [
    "# Définissez-ici votre fonction \"quarante_deux\" :\n",
    "def quarante_deux():\n",
    "    return 42\n",
    "\n",
    "# Définissez ici votre fonction \"plus_deux\" :\n",
    "def plus_deux(a):\n",
    "    return a + 2\n",
    "\n",
    "# Pensez à validez la cellule avec SHIFT+ENTREE autant que nécessaire"
   ]
  },
  {
   "cell_type": "markdown",
   "metadata": {},
   "source": [
    "Lorsque vous pensez avoir terminé, Exécutez votre cellule de code. S'il n'y a pas d'erreur affichée exécutez les cellules ci-dessous pour en faire la correction.\n",
    "\n",
    "S'il y a des erreurs, KEEP CALM and... READ ! Python vous explique ce qui le chagrine en bon Anglais de Shakespeare, prenez le temps de le lire. Les erreurs possibles à vérifier :\n",
    "- Avez vous bien commencé votre ligne par \"def\" ?\n",
    "- Avez-vous bien respecté le nom de la fonction ? Evitez les espaces, les caractères spéciaux en dehors de - ou \\_, les accents, les nombres en début...\n",
    "- Avez-vous bien mis les parenthèses ?\n",
    "- Avez-vous bien mis le caractère \":\" après les parenthèses ? Moi aussi j'oublie souvent... "
   ]
  },
  {
   "cell_type": "code",
   "execution_count": 7,
   "metadata": {},
   "outputs": [
    {
     "data": {
      "text/html": [
       "<table style='font-family:monospace;font-size:small;'><tr style='font-family:monospace;font-size:medium;'><th style='text-align: center;'><pre>Appel</pre></th><th style='text-align: center;'><pre>Attendu</pre></th><th style='text-align: center;'><pre>Obtenu</pre></th><th style='text-align: center;'><pre></pre></th></tr><tr style='background-color:#d6e9ce;border-bottom:2px solid gray;'><td><pre>quarante_deux()</pre></td><td style='text-align: left;border-left:3px solid gray;'><pre>\n",
       "42</pre></td><td style='text-align: left;border-left:1px solid gray;'><pre>\n",
       "42</pre></td><td style='border-left:3px solid gray;'><pre>OK</pre></td></tr></table>"
      ],
      "text/plain": [
       "<IPython.core.display.HTML object>"
      ]
     },
     "execution_count": 7,
     "metadata": {},
     "output_type": "execute_result"
    }
   ],
   "source": [
    "# Correction automatique de la fonction 42.\n",
    "th4.cr_quarante_deux.correction(quarante_deux)"
   ]
  },
  {
   "cell_type": "code",
   "execution_count": 5,
   "metadata": {},
   "outputs": [
    {
     "data": {
      "text/html": [
       "<table style='font-family:monospace;font-size:small;'><tr style='font-family:monospace;font-size:medium;'><th style='text-align: center;'><pre>Appel</pre></th><th style='text-align: center;'><pre>Attendu</pre></th><th style='text-align: center;'><pre>Obtenu</pre></th><th style='text-align: center;'><pre></pre></th></tr><tr style='background-color:#d6e9ce;border-bottom:2px solid gray;'><td><pre>plus_deux(5)</pre></td><td style='text-align: left;border-left:3px solid gray;'><pre>\n",
       "7</pre></td><td style='text-align: left;border-left:1px solid gray;'><pre>\n",
       "7</pre></td><td style='border-left:3px solid gray;'><pre>OK</pre></td></tr><tr style='background-color:#d6e9ce;border-bottom:2px solid gray;'><td><pre>plus_deux(42)</pre></td><td style='text-align: left;border-left:3px solid gray;'><pre>\n",
       "44</pre></td><td style='text-align: left;border-left:1px solid gray;'><pre>\n",
       "44</pre></td><td style='border-left:3px solid gray;'><pre>OK</pre></td></tr><tr style='background-color:#d6e9ce;border-bottom:2px solid gray;'><td><pre>plus_deux(-2)</pre></td><td style='text-align: left;border-left:3px solid gray;'><pre>\n",
       "0</pre></td><td style='text-align: left;border-left:1px solid gray;'><pre>\n",
       "0</pre></td><td style='border-left:3px solid gray;'><pre>OK</pre></td></tr></table>"
      ],
      "text/plain": [
       "<IPython.core.display.HTML object>"
      ]
     },
     "execution_count": 5,
     "metadata": {},
     "output_type": "execute_result"
    }
   ],
   "source": [
    "# Correction automatique de la fonction +2.\n",
    "th4.cr_plus_deux.correction(plus_deux)"
   ]
  },
  {
   "cell_type": "markdown",
   "metadata": {},
   "source": [
    "----\n",
    "# Programmation\n",
    "\n",
    "## Importation des données CSV\n",
    "\n"
   ]
  },
  {
   "cell_type": "code",
   "execution_count": null,
   "metadata": {},
   "outputs": [],
   "source": []
  }
 ],
 "metadata": {
  "celltoolbar": "Aucun(e)",
  "kernelspec": {
   "display_name": "Python 3",
   "language": "python",
   "name": "python3"
  },
  "language_info": {
   "codemirror_mode": {
    "name": "ipython",
    "version": 3
   },
   "file_extension": ".py",
   "mimetype": "text/x-python",
   "name": "python",
   "nbconvert_exporter": "python",
   "pygments_lexer": "ipython3",
   "version": "3.7.6"
  }
 },
 "nbformat": 4,
 "nbformat_minor": 4
}
