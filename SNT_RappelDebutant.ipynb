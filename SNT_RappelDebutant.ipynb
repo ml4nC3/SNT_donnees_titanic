{
 "cells": [
  {
   "cell_type": "markdown",
   "metadata": {},
   "source": [
    "# Lire !\n",
    "\n",
    "L'informatique, c'est avant tout de la lecture ! D'ailleurs, on programme avec un **langage**. La première qualité à avoir pour faire de l'informatique est donc avant tout de savoir **LIRE**.\n",
    "\n",
    "Lire Google, lire un tuto, lire un forum, lire un MOOC, lire un programme...\n",
    "\n",
    "Ce cours contient de fait beaucoup de texte, car il cherche à expliquer au mieux tout ce qui se passe. Prenez donc le temps de lire.\n",
    "\n",
    "Et lorsque vous en avez marre de lire, allez faire autre chose ! Revenez dessus plus tard.\n",
    "\n",
    "#### Le vocabulaire\n",
    "\n",
    "Ce cours emploi régulièrement des formulations vulgarisée pour représenter des concepts. Lorsque le **vocabulaire technique** précis est utilisé, il est en gras."
   ]
  },
  {
   "cell_type": "markdown",
   "metadata": {},
   "source": [
    "----\n",
    "# Rappels de niveau débutant\n",
    "\n",
    "Les chapitres ci-dessous repartent des bases de la programmation python pour ceux qui ont besoin d'accompagnement. L'objectif ici est que vous ressortiez avec la conviction que vous êtes capables d'écrire des programmes simples."
   ]
  },
  {
   "cell_type": "markdown",
   "metadata": {},
   "source": [
    "# Imports\n",
    "Les lignes ci-dessous utilisent la commande **import**. Cette commande permet **d'importer** (thanks captain obvious), c'est à dire **d'inclure dans notre programme** des outils qui nous seront utiles pour réaliser notre tâche.\n",
    "\n",
    "Ces outils sont des programmes qui ont été développés et partagés en tant que **bibliothèque**. On peut imaginer ces bibliothèques comme des étagères pleines de différents _livres_ qui nous seront utiles, ou pas. _Ces livres_ s'appellent des **fonctions**.\n",
    "\n",
    "Plus tard dans notre code nous iront chercher les _livres_ qui nous interessent dans l'étagère. On dit alors qu'on **appelle la fonction** de la **bibliothèque**."
   ]
  },
  {
   "cell_type": "code",
   "execution_count": null,
   "metadata": {},
   "outputs": [],
   "source": [
    "# Import d'une fonction pour afficher des vidéos youtube dans ce cours :\n",
    "from IPython.display import YouTubeVideo\n",
    "\n",
    "# Import des éléments nécessaires à l'auto-correction des exercices :\n",
    "import theme4_python as th4"
   ]
  },
  {
   "cell_type": "markdown",
   "metadata": {},
   "source": [
    "### Exécution du code\n",
    "Cliquez dans la cellule ci-dessus et appuyez sur les touches **SHIFT + ENTREE**.\n",
    "\n",
    "Un chiffre est apparu entre les crochets : _\"Entrée [**1**]:\"_\n",
    "Il s'agit du numéro d'exécution de la cellule. Il vous permet de vous rappeler dans quel ordre vous avez exécuté le code sur cette page."
   ]
  },
  {
   "cell_type": "markdown",
   "metadata": {},
   "source": [
    "### Commentaires\n",
    "Remarquez dans la cellule de code ci-dessus le texte qui commence par le caractère **#**. Ce caractère permet de dire à Python qu'il ne faut pas interpréter le texte qui vient après sur la même ligne.\n",
    "\n",
    "Ce texte est à destination de ceux qui lisent le code afin de les aider à le comprendre. On appelle ce texte **un commentaire de code**."
   ]
  },
  {
   "cell_type": "markdown",
   "metadata": {},
   "source": [
    "## Les bases\n",
    "\n",
    "Que cherchons-nous à faire ? Quel est l'objectif ? Et ensuite, quelles sont les différentes **tâches** qui vont nous permettre d'atteindre cet objectif ?\n",
    "\n",
    "Voici les questions qu'il faut se poser lorsqu'on débute un nouveau programme. La programmation permet de découper un *gros problème* en plusieurs *problèmes plus petits* que l'on résoud un par un.\n",
    "\n",
    "Gardez ceci à l'esprit. Si vous butez sur un problème, demandez-vous si vous pouvez le découper en plusieurs étapes plus simples. La programmation se construit au fur et à mesure, à chaque pas on résoud un nouveau problème. C'est une démarche **itérative**.\n",
    "\n",
    "### Les variables\n",
    "\n",
    "Souvenez-vous : une variable est un **espace mémoire** de l'ordinateur, c'est à dire une boite qui contient une donnée. Cette boite a un nom qui lui est donné dans le programme, et on appelle **affectation** ou **attribution** l'action de lui donner ou changer sa valeur.\n",
    "\n",
    "L'action d'**affecter** une **valeur** à une **variable** s'effectue avec le signe **=**."
   ]
  },
  {
   "cell_type": "code",
   "execution_count": null,
   "metadata": {},
   "outputs": [],
   "source": [
    "ma_variable = 12\n",
    "# Ici je créé une variable appelée \"ma_variable\" à laquelle je donne la valeur 12."
   ]
  },
  {
   "cell_type": "markdown",
   "metadata": {},
   "source": [
    "Pour en savoir plus, exécutez la cellule ci-dessous pour regarder une vidéo sur le sujet."
   ]
  },
  {
   "cell_type": "code",
   "execution_count": null,
   "metadata": {
    "scrolled": true
   },
   "outputs": [],
   "source": [
    "vid_variables = YouTubeVideo(\"nvyX8JfoOWY\")\n",
    "display(vid_variables)"
   ]
  },
  {
   "cell_type": "markdown",
   "metadata": {},
   "source": [
    "### Les fonctions\n",
    "\n",
    "L'autre concept important est celui de **la fonction**. Une fonction est un bout de programme auquel on a donné **un nom**. Ce bout de programme remplit un rôle, une fonction, en effectuant des opérations et éventuellement en renvoyant un résultat.\n",
    "\n",
    "Une fonction est définie avec le mot-clé **def** suivi du **nom de la fonction** et de **parenthèses**."
   ]
  },
  {
   "cell_type": "code",
   "execution_count": null,
   "metadata": {},
   "outputs": [],
   "source": [
    "def afficher_choucroute():\n",
    "    print(\"J'adore la choucroute !\")\n",
    "# Fonction qui affiche un texte du plus grand intérêt."
   ]
  },
  {
   "cell_type": "markdown",
   "metadata": {},
   "source": [
    "Exécutez la cellule ci-dessus. Remarquez que le texte n'a pas été renvoyé, rien ne s'est affiché. C'est parce qu'ici nous avons seulement définit les actions que fera la fonction, mais nous ne l'avons pas exécutée.\n",
    "\n",
    "Nous avons créé *un nouveau livre* et l'avons rangé dans *l'étagère de notre programme*, mais nous ne l'avons pas lu.\n",
    "\n",
    "Une fonction n'est exécutée que lorsqu'elle est **appelée**. Pour appeler une fonction il suffit d'utiliser son nom suivi de **parenthèses**."
   ]
  },
  {
   "cell_type": "code",
   "execution_count": null,
   "metadata": {},
   "outputs": [],
   "source": [
    "afficher_choucroute()"
   ]
  },
  {
   "cell_type": "markdown",
   "metadata": {},
   "source": [
    "A quoi ça sert me dites vous ? A répéter du code :"
   ]
  },
  {
   "cell_type": "code",
   "execution_count": null,
   "metadata": {},
   "outputs": [],
   "source": [
    "afficher_choucroute()\n",
    "afficher_choucroute()\n",
    "afficher_choucroute()"
   ]
  },
  {
   "cell_type": "markdown",
   "metadata": {},
   "source": [
    "Bon évidemment ici l'intérêt ne saute pas aux yeux...\n",
    "\n",
    "Mais souvenez-vous : la programmation c'est **découper un gros problème en petits problèmes**, et il arrive fréquemment qu'on ai besoin de résoudre un petit problème plusieurs fois. Alors on appelle une fonction plutôt que de répéter le code. \n",
    "\n",
    "En programmation il faut savoir être feignant, non pas en évitant le problème mais en trouvant la solution la plus simple et la moins coûteuse pour le résoudre."
   ]
  },
  {
   "cell_type": "markdown",
   "metadata": {},
   "source": [
    "#### Les paramètres de fonction\n",
    "\n",
    "Une vraie fonction travaille généralement à partir de données qu'on lui donne, et retourne un résultat. \n",
    "\n",
    "Lorsque l'on définit la fonction, on peut demander qu'une donnée soit fournie en entrée en précisant **le nom d'une ou plusieurs variables**.\n",
    "\n",
    "Enfin, une fois que les opérations seront terminées on retourne le résultat avec la fonction **return**."
   ]
  },
  {
   "cell_type": "code",
   "execution_count": null,
   "metadata": {},
   "outputs": [],
   "source": [
    "# Définition d'une fonction faisant la somme de 2 entrées.\n",
    "# Evidemment ce n'est pas très utile d'utiliser une fonction pour ça.\n",
    "# Mais c'est pour l'exemple !\n",
    "def additionner(premier, second):\n",
    "    resultat = premier + second\n",
    "    return resultat\n",
    "\n",
    "# définition de 2 variables quelconques :\n",
    "ma_variable = 12\n",
    "ma_variable_2 = 4\n",
    "\n",
    "# Appel de la fonction définie plus haut avec nos 2 variables :\n",
    "somme = additionner(ma_variable, ma_variable_2)\n",
    "\n",
    "# Affichage du résultat avec la fonction print :\n",
    "print(somme)"
   ]
  },
  {
   "cell_type": "markdown",
   "metadata": {},
   "source": [
    "### Mettons en pratique\n",
    "\n",
    "Maintenant à vous, écrivez dans la cellule :\n",
    "- une première fonction qui s'appellera \"quarante_deux\" et qui retourne la valeur 42\n",
    "- une seconde fonction qui s'appellera \"plus_deux\" prenant un paramètre, et qui retourne la valeur du paramètre donné + 2"
   ]
  },
  {
   "cell_type": "code",
   "execution_count": null,
   "metadata": {},
   "outputs": [],
   "source": [
    "# Définissez-ici votre fonction \"quarante_deux\" :\n",
    "\n",
    "\n",
    "# Définissez ici votre fonction \"plus_deux\" :\n",
    "\n",
    "\n",
    "# Pensez à validez la cellule avec SHIFT+ENTREE autant que nécessaire"
   ]
  },
  {
   "cell_type": "markdown",
   "metadata": {},
   "source": [
    "Lorsque vous pensez avoir terminé, Exécutez votre cellule de code. S'il n'y a pas d'erreur affichée exécutez les cellules ci-dessous pour en faire la correction."
   ]
  },
  {
   "cell_type": "code",
   "execution_count": null,
   "metadata": {},
   "outputs": [],
   "source": [
    "# Correction automatique de la fonction 42.\n",
    "th4.cr_quarante_deux.correction(quarante_deux)"
   ]
  },
  {
   "cell_type": "code",
   "execution_count": null,
   "metadata": {},
   "outputs": [],
   "source": [
    "# Correction automatique de la fonction +2.\n",
    "th4.cr_plus_deux.correction(plus_deux)"
   ]
  },
  {
   "cell_type": "markdown",
   "metadata": {},
   "source": [
    "#### En cas d'erreur\n",
    "\n",
    "S'il y a des erreurs, KEEP CALM and... READ ! Python vous explique ce qui le chagrine en bon Anglais de Shakespeare, prenez le temps de le lire. Les erreurs possibles à vérifier :\n",
    "- Avez vous bien commencé votre ligne par \"def\" ?\n",
    "- Avez-vous bien respecté le nom de la fonction ? Evitez les espaces, les caractères spéciaux en dehors de - ou \\_, les accents, les nombres en début...\n",
    "- Avez-vous bien mis les parenthèses ?\n",
    "- Avez-vous bien mis le caractère \":\" après les parenthèses ? Moi aussi j'oublie souvent... "
   ]
  },
  {
   "cell_type": "markdown",
   "metadata": {},
   "source": [
    "#### Suite :\n",
    "\n",
    "Si tout est bon, utilisons maintenant ces fonctions : Stockons le résultat de la première dans une variable, puis incrémentons la de 2 avec notre fonction plus_deux :"
   ]
  },
  {
   "cell_type": "code",
   "execution_count": null,
   "metadata": {},
   "outputs": [],
   "source": [
    "# Déclarez ici une variable du nom de votre choix et donnez lui la valeur 0 :\n",
    "\n",
    "\n",
    "# Modifiez ici la valeur de votre variable en appelant votre fonction quarante_deux :\n",
    "\n",
    "\n",
    "# Modifiez encore ici votre variable en appelant votre fonction plus_deux en lui donnant votre variable en paramètre :\n",
    "\n",
    "\n",
    "# Appelez ici la fonction print() pour afficher le contenu de votre variable :\n"
   ]
  },
  {
   "cell_type": "markdown",
   "metadata": {},
   "source": [
    "Le résutlat devrait être : 44"
   ]
  },
  {
   "cell_type": "markdown",
   "metadata": {},
   "source": [
    "## Les structures de contrôle\n",
    "\n",
    "### Je viens seulement à la condition que, sinon je viens pas !"
   ]
  },
  {
   "cell_type": "markdown",
   "metadata": {},
   "source": [
    "Maintenant que nous avons quelques bases, il s'agit de maitriser les **instructions** qui nous permettront de contrôler le déroulement du code. Ces instructions s'appellent des **structures de contrôle**, et permettent à nos programmes de s'adapter.\n",
    "\n",
    "Dans la plupart des langages la structure dite **conditionnelle** est appelée **if**, pour \"si\". Cette structure permet d'exécuter des instructions dans le cas où une condition est vraie, et d'autres si la condition est fausse. \n",
    "\n",
    "Pour exemple, imaginons que vous ayez pris la décision suivante :"
   ]
  },
  {
   "cell_type": "code",
   "execution_count": null,
   "metadata": {},
   "outputs": [],
   "source": [
    "on_va_voir_mickey = False"
   ]
  },
  {
   "cell_type": "markdown",
   "metadata": {},
   "source": [
    "Imaginons maintenant que le programme suivant soit un enfant :"
   ]
  },
  {
   "cell_type": "code",
   "execution_count": null,
   "metadata": {
    "deletable": false,
    "editable": false
   },
   "outputs": [],
   "source": [
    "if(on_va_voir_mickey):                # Si on_va_voir_mickey est vrai\n",
    "    print(\"Ok, je viens.\")            # Afficher \"Ok, je viens.\"\n",
    "else:                                 # Sinon    = si la condition n'est pas vraie\n",
    "    print(\"Alors je viens pas !!\")    # Afficher \"Alors je viens pas !!\""
   ]
  },
  {
   "cell_type": "markdown",
   "metadata": {},
   "source": [
    "Il s'agit d'un programme têtu, impossible de le changer.\n",
    "\n",
    "##### Question\n",
    "\n",
    "Sachant qu'une variable de type vrai/faux (dite **booléenne**) peut prendre les valeurs : \"**False**\" ou \"**True**\" (attention à la majuscule), que pouvez-vous changer pour qu'il accepte de venir ?"
   ]
  },
  {
   "cell_type": "markdown",
   "metadata": {},
   "source": [
    "Effectuez votre modification, puis exécutez à nouveau les 2 cellules de cette partie.\n",
    "\n",
    "...\n",
    "\n",
    "Vous avez réussit ? Bravo ! Mais j'espère que vous serez plus ferme quand vous serez vraiment parents...\n",
    "\n",
    "Vous avez ainsi vu l'essence d'une structure de contrôle : le comportement du programme change selon la valeur des données qu'il traite."
   ]
  },
  {
   "cell_type": "markdown",
   "metadata": {},
   "source": [
    "### Attachez vos ceintures : Les boucles !\n",
    "\n",
    "Si les boucles ne vous font pas peur, très bien : tout va bien se passer. Si les boucles vous font peur : tout va bien se passer aussi.\n",
    "\n",
    "Une boucle n'est ni plus ni moins qu'une répétition. Elles permettent de **répéter** les mêmes **instructions** (= actions/opérations)... en boucle. Mais comme on n'a pas que ça à faire de nos journées, elles permettent aussi de déterminer quand ou comment est-ce que la boucle s'arrête.\n",
    "\n",
    "Point. Si vous avez compris ça, vous avez compris les boucles. \n",
    "\n",
    "Les types de boucles dépendent du langage utilisé, mais 2 types sont particulièrement communs : **while** (tant que), et **for** (pour chaque)."
   ]
  },
  {
   "cell_type": "markdown",
   "metadata": {},
   "source": [
    "#### La boucle While\n",
    "\n",
    "On utilise **While** pour dire : **Tant que** ma **condition** est vraie, continue les actions suivantes.\n",
    "\n",
    "Autrement dit, si on s'approche de la syntaxte de programmation :  \n",
    "Tant que ( ce test de vérité est vrai ) Alors  \n",
    "....Réalise ces actions (ou **instructions**)\n",
    "    \n",
    "Traduisons ceci en langage python"
   ]
  },
  {
   "cell_type": "code",
   "execution_count": null,
   "metadata": {},
   "outputs": [],
   "source": [
    "#Programme pour compter jusqu'à 5\n",
    "\n",
    "compte = 1                # Création d'une variable nombre contenant la valeur 1\n",
    "\n",
    "while(compte <= 5):       # Tant que mon nombre est inférieur ou égale à 5\n",
    "    print(compte)         # Afficher la valeur de ma variable nombre\n",
    "    compte = compte + 1   # Remplacer la valeur de nombre par sa valeur précédente + 1"
   ]
  },
  {
   "cell_type": "markdown",
   "metadata": {},
   "source": [
    "##### Question :\n",
    "\n",
    "Modifiez le programme ci-dessus pour qu'il compte de *2 en 2* de *0 à 10 inclus*."
   ]
  },
  {
   "cell_type": "markdown",
   "metadata": {},
   "source": [
    "\n",
    "\n",
    "#### La boucle For\n",
    "\n",
    "On utilise **For** pour dire : **Pour chaque** valeur de ma variable **dans** cette liste/ensemble, effectue les actions suivantes. \n",
    "\n",
    "C'est comme si vous aviez un coffre rempli d'objets :"
   ]
  },
  {
   "cell_type": "code",
   "execution_count": null,
   "metadata": {},
   "outputs": [],
   "source": [
    "coffre = ['flute','ballon','balerine','piano','autruche']\n",
    "# Le coffre est représenté ici par les crochets [], et chaque objet qu'il contient est séparé par une \",\""
   ]
  },
  {
   "cell_type": "markdown",
   "metadata": {},
   "source": [
    "Votre papa vous demande de faire du tri dans ce bazar. Mettons, pour simplifier, que vous décidiez de vous séparer des objets dont le nom commence par 'b' (hors de question de jeter l'autruche !).\n",
    "\n",
    "Je vous donne ici la fonction qui détermine si le mot commence par 'b', sachant qu'il vous manque possiblement des éléments de compréhension que nous verrons plus tard : "
   ]
  },
  {
   "cell_type": "code",
   "execution_count": null,
   "metadata": {},
   "outputs": [],
   "source": [
    "def commence_par_b(texte):\n",
    "    return texte[0] == 'b'"
   ]
  },
  {
   "cell_type": "markdown",
   "metadata": {},
   "source": [
    "Pour décider quoi jeter, il faut maintenant prendre les objets du coffre un par un et déterminer s'ils commencent par 'b'. C'est ici qu'intervient l'instruction **for**."
   ]
  },
  {
   "cell_type": "code",
   "execution_count": null,
   "metadata": {},
   "outputs": [],
   "source": [
    "for objet in coffre:                 # Pour chaque objet dans mon coffre\n",
    "    if(commence_par_b(objet)):       # Si le nom de l'objet commence par 'b' :\n",
    "        print(\"Je jette : \" + objet) #     afficher \"je jette : nom de l'objet\"\n",
    "    else:                            # sinon :\n",
    "        print(\"Je garde : \" + objet) #     afficher \"je garde : nom de l'objet\"\n"
   ]
  },
  {
   "cell_type": "markdown",
   "metadata": {},
   "source": [
    "L'**objet** python que nous avons utilisé pour représenter notre coffre est une **liste**. Les boucles **for** sont particulèrement utile pour **parcourir** les **listes**.\n",
    "\n",
    "*coffre* était donc une **variable** contenant une donnée de type **liste**. Voyez plutôt :"
   ]
  },
  {
   "cell_type": "markdown",
   "metadata": {},
   "source": [
    "### Les listes !\n",
    "\n",
    "Terminons par cette dernière notion, qui nous sera indispensable pour correctement traiter des données dans nos programmes : la liste.\n",
    "\n",
    "Commençons par observer un peu notre coffre :"
   ]
  },
  {
   "cell_type": "code",
   "execution_count": null,
   "metadata": {},
   "outputs": [],
   "source": [
    "print( coffre )\n",
    "print( type(coffre) )"
   ]
  },
  {
   "cell_type": "markdown",
   "metadata": {},
   "source": [
    "Qu'observez-vous ici ? Comment sont organisées les données ?  "
   ]
  },
  {
   "cell_type": "markdown",
   "metadata": {},
   "source": [
    "*Votre réponse ici :*\n",
    "\n",
    "*Appuyez sur ENTREE, ou double-cliquez dans la cellule pour l'éditer*   \n",
    "*Validez avec SHIFT+ENTREE*"
   ]
  },
  {
   "cell_type": "markdown",
   "metadata": {},
   "source": [
    "Ajoutons des éléments dans le coffre:"
   ]
  },
  {
   "cell_type": "code",
   "execution_count": null,
   "metadata": {},
   "outputs": [],
   "source": [
    "coffre.append(42)\n",
    "coffre.insert(2, 34)\n",
    "\n",
    "print(coffre)"
   ]
  },
  {
   "cell_type": "markdown",
   "metadata": {},
   "source": [
    "Qu'observez-vous à nouveau ? Que s'est-il passé dans notre coffre ?"
   ]
  },
  {
   "cell_type": "markdown",
   "metadata": {},
   "source": [
    "*Votre réponse ici :* "
   ]
  },
  {
   "cell_type": "code",
   "execution_count": null,
   "metadata": {},
   "outputs": [],
   "source": [
    "print( coffre[3] )"
   ]
  },
  {
   "cell_type": "markdown",
   "metadata": {},
   "source": [
    "Qu'est-ce qui s'affiche ici ?"
   ]
  },
  {
   "cell_type": "markdown",
   "metadata": {},
   "source": [
    "*Votre réponse ici :* "
   ]
  },
  {
   "cell_type": "markdown",
   "metadata": {},
   "source": [
    "Remarquez cette syntaxte particulière : coffre.append(42)  \n",
    "Cela vous rappelle-t-il une notion que nous avons vu plus tôt dans ce cours ? Si oui laquelle ?"
   ]
  },
  {
   "cell_type": "markdown",
   "metadata": {},
   "source": [
    "*Votre réponse ici :* "
   ]
  },
  {
   "cell_type": "markdown",
   "metadata": {},
   "source": [
    "#### Définition\n",
    "\n",
    "Une liste est un **objet** contenant un ensemble de plusieurs espaces mémoire. C'est un peu comme si vous aviez plusieurs variables regroupées sous un même nom. On pourrait dire que la liste est une variable, mais pour être précis nous allons dire que c'est **un type** de donnée qui peut être **référencé** par une variable. C'est un type de contenu dans le contenant.\n",
    "\n",
    "#### Propriétés\n",
    "\n",
    "La liste est **ordonnée**, c'est à dire qu'elle conserve l'ordre dans lequel ont été ajouté les éléments qu'elle contient.\n",
    "\n",
    "La liste est **indexée**, ce qui signfie que chaque élément qu'elle contient est numéroté de 0 au dernier élément. L'**index** est le numéro d'un élément. C'est la raison pour laquelle beaucoup de programmes utilisent une variable nommée \"i\", qui est un raccourci pour \"index\".\n",
    "\n",
    "La syntaxte pour accéder à un élément de la liste est la suivante : **nom_de_ma_liste\\[**index**\\]**.\n",
    "\n",
    "En python la liste (comme tout le reste) est un **objet**. Ce mot anodin est lourd de sens en programmation, mais faisons au plus simple : un **objet** dispose de **propriétés** et de **fonctions** qui lui sont propres. Toujours dans un souci de précision, ces fonctions particulière s'appellent des **méthodes** et permettent d'intéragir avec l'objet.\n",
    "\n",
    "Exemples :\n",
    "- append(*valeur*) : permet d'ajouter l'élément *valeur* à la fin de notre liste\n",
    "- index(*valeur*) : renvoi l'**index** (= numéro) de la valeur\n",
    "\n",
    "- sort() : tri les éléments de la liste par ordre de grandeur ou ordre alphabétique selon la nature du contenu"
   ]
  },
  {
   "cell_type": "code",
   "execution_count": null,
   "metadata": {},
   "outputs": [],
   "source": []
  }
 ],
 "metadata": {
  "celltoolbar": "Aucun(e)",
  "kernelspec": {
   "display_name": "Python 3",
   "language": "python",
   "name": "python3"
  },
  "language_info": {
   "codemirror_mode": {
    "name": "ipython",
    "version": 3
   },
   "file_extension": ".py",
   "mimetype": "text/x-python",
   "name": "python",
   "nbconvert_exporter": "python",
   "pygments_lexer": "ipython3",
   "version": "3.7.6"
  }
 },
 "nbformat": 4,
 "nbformat_minor": 4
}
